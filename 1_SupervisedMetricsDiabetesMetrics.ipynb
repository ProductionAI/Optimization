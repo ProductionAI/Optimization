{
 "cells": [
  {
   "cell_type": "markdown",
   "id": "1537d775",
   "metadata": {},
   "source": [
    "# For Classification:\n",
    "\n",
    "## Accuracy\n",
    "The most straightforward metric. It measures the overall correctness of the model's predictions.  Calculated as: (Number of correct predictions) / (Total number of predictions).\n",
    "\n",
    "Advantages: Easy to understand and interpret.\n",
    "Disadvantages: Can be misleading if the classes are imbalanced (e.g., one class has many more examples than others).\n",
    "## Precision\n",
    "Measures how many of the positive predictions were actually correct.  It focuses on the quality of positive predictions. Calculated as: (Number of true positives) / (Number of true positives + Number of false positives).\n",
    "\n",
    "Advantages: Useful when minimizing false positives is important (e.g., spam detection).\n",
    "Disadvantages: Doesn't consider false negatives. A model with high precision might miss many actual positive cases.\n",
    "## Recall (Sensitivity or True Positive Rate)\n",
    "Measures how many of the actual positive cases were correctly predicted.  It focuses on the model's ability to find all the positives. Calculated as: (Number of true positives) / (Number of true positives + Number of false negatives).\n",
    "\n",
    "Advantages: Useful when minimizing false negatives is crucial (e.g., disease detection).\n",
    "Disadvantages: Doesn't consider false positives. A model with high recall might have many false positives.\n",
    "## F1-score\n",
    "The harmonic mean of precision and recall. It provides a balanced measure that considers both false positives and false negatives. Calculated as: 2 * (Precision * Recall) / (Precision + Recall).   \n",
    "\n",
    "Advantages: Useful when you want a good balance between precision and recall.\n",
    "Disadvantages: Not as interpretable as precision or recall alone.\n",
    "## AUC (Area Under the ROC Curve)\n",
    "Measures the ability of the classifier to distinguish between classes at different thresholds.  It plots the True Positive Rate (Recall) against the False Positive Rate at various thresholds.  An AUC of 1 is perfect, and 0.5 is random chance.\n",
    "\n",
    "Advantages: Less sensitive to class imbalance than accuracy. Provides a good overall measure of performance.\n",
    "Disadvantages: Can be less intuitive than other metrics.\n",
    "## Confusion Matrix\n",
    "A table that summarizes the model's predictions. It shows the counts of true positives, true negatives, false positives, and false negatives.\n",
    "\n",
    "Advantages: Provides a complete picture of the model's performance, showing where it makes mistakes.\n",
    "Disadvantages: Can be a bit overwhelming for quick comparisons, especially with many classes.\n",
    "Classification Report: A summary that includes precision, recall, F1-score, and support (number of samples) for each class. Often presented alongside the confusion matrix.\n",
    "\n",
    "## Log Loss (Cross-Entropy Loss)\n",
    "A common loss function used in classification.  It measures the difference between the predicted probability distribution and the true distribution.  Lower log loss is better.  It is often used during training as well as for evaluation.\n",
    "\n",
    "# For Regression:\n",
    "\n",
    "## Mean Squared Error (MSE)\n",
    "The average of the squared differences between the predicted and actual values.  Sensitive to outliers.  Lower MSE is better.\n",
    "\n",
    "## Root Mean Squared Error (RMSE)\n",
    "The square root of the MSE.  It's in the same units as the target variable, making it easier to interpret. Lower RMSE is better.\n",
    "\n",
    "## Mean Absolute Error (MAE)\n",
    "The average of the absolute differences between the predicted and actual values.  Less sensitive to outliers than MSE. Lower MAE is better.\n",
    "\n",
    "## R-squared (Coefficient of Determination)\n",
    "Measures the proportion of the variance in the target variable that is predictable from the features.  Ranges from 0 to 1.  Higher R-squared is better.   \n",
    "\n",
    "# Other Important Considerations\n",
    "\n",
    "## Class Imbalance\n",
    "If your classes are imbalanced, choose metrics that are less sensitive to this issue, such as AUC, F1-score (with appropriate averaging), or look at the metrics for each class individually.\n",
    "## Business Goals\n",
    "The best metric ultimately depends on your specific business goals. For example, if minimizing false positives is critical, you might prioritize precision.\n",
    "Context: Consider the context of your problem. What are the costs associated with different types of errors (false positives vs. false negatives)? This will help you choose the most relevant metric.\n",
    "## Multiple Metrics\n",
    "It's often a good idea to consider multiple metrics to get a well-rounded view of your model's performance.\n",
    "Remember to choose the metrics that best align with your specific task and objectives. Don't rely on just one metric; consider a combination for a more comprehensive evaluation.\n"
   ]
  },
  {
   "cell_type": "code",
   "execution_count": 38,
   "id": "a75ae951",
   "metadata": {},
   "outputs": [],
   "source": [
    "import pandas as pd\n",
    "df = pd.read_csv(\"Data/diabetes.csv\")"
   ]
  },
  {
   "cell_type": "code",
   "execution_count": 39,
   "id": "ae5d9c71",
   "metadata": {},
   "outputs": [
    {
     "data": {
      "text/html": [
       "<div>\n",
       "<style scoped>\n",
       "    .dataframe tbody tr th:only-of-type {\n",
       "        vertical-align: middle;\n",
       "    }\n",
       "\n",
       "    .dataframe tbody tr th {\n",
       "        vertical-align: top;\n",
       "    }\n",
       "\n",
       "    .dataframe thead th {\n",
       "        text-align: right;\n",
       "    }\n",
       "</style>\n",
       "<table border=\"1\" class=\"dataframe\">\n",
       "  <thead>\n",
       "    <tr style=\"text-align: right;\">\n",
       "      <th></th>\n",
       "      <th>year</th>\n",
       "      <th>age</th>\n",
       "      <th>race:AfricanAmerican</th>\n",
       "      <th>race:Asian</th>\n",
       "      <th>race:Caucasian</th>\n",
       "      <th>race:Hispanic</th>\n",
       "      <th>race:Other</th>\n",
       "      <th>hypertension</th>\n",
       "      <th>heart_disease</th>\n",
       "      <th>bmi</th>\n",
       "      <th>hbA1c_level</th>\n",
       "      <th>blood_glucose_level</th>\n",
       "      <th>diabetes</th>\n",
       "    </tr>\n",
       "  </thead>\n",
       "  <tbody>\n",
       "    <tr>\n",
       "      <th>count</th>\n",
       "      <td>100000.000000</td>\n",
       "      <td>100000.000000</td>\n",
       "      <td>100000.000000</td>\n",
       "      <td>100000.000000</td>\n",
       "      <td>100000.000000</td>\n",
       "      <td>100000.00000</td>\n",
       "      <td>100000.000000</td>\n",
       "      <td>100000.00000</td>\n",
       "      <td>100000.000000</td>\n",
       "      <td>100000.000000</td>\n",
       "      <td>100000.000000</td>\n",
       "      <td>100000.000000</td>\n",
       "      <td>100000.000000</td>\n",
       "    </tr>\n",
       "    <tr>\n",
       "      <th>mean</th>\n",
       "      <td>2018.360820</td>\n",
       "      <td>41.885856</td>\n",
       "      <td>0.202230</td>\n",
       "      <td>0.200150</td>\n",
       "      <td>0.198760</td>\n",
       "      <td>0.19888</td>\n",
       "      <td>0.199980</td>\n",
       "      <td>0.07485</td>\n",
       "      <td>0.039420</td>\n",
       "      <td>27.320767</td>\n",
       "      <td>5.527507</td>\n",
       "      <td>138.058060</td>\n",
       "      <td>0.085000</td>\n",
       "    </tr>\n",
       "    <tr>\n",
       "      <th>std</th>\n",
       "      <td>1.345239</td>\n",
       "      <td>22.516840</td>\n",
       "      <td>0.401665</td>\n",
       "      <td>0.400114</td>\n",
       "      <td>0.399069</td>\n",
       "      <td>0.39916</td>\n",
       "      <td>0.399987</td>\n",
       "      <td>0.26315</td>\n",
       "      <td>0.194593</td>\n",
       "      <td>6.636783</td>\n",
       "      <td>1.070672</td>\n",
       "      <td>40.708136</td>\n",
       "      <td>0.278883</td>\n",
       "    </tr>\n",
       "    <tr>\n",
       "      <th>min</th>\n",
       "      <td>2015.000000</td>\n",
       "      <td>0.080000</td>\n",
       "      <td>0.000000</td>\n",
       "      <td>0.000000</td>\n",
       "      <td>0.000000</td>\n",
       "      <td>0.00000</td>\n",
       "      <td>0.000000</td>\n",
       "      <td>0.00000</td>\n",
       "      <td>0.000000</td>\n",
       "      <td>10.010000</td>\n",
       "      <td>3.500000</td>\n",
       "      <td>80.000000</td>\n",
       "      <td>0.000000</td>\n",
       "    </tr>\n",
       "    <tr>\n",
       "      <th>25%</th>\n",
       "      <td>2019.000000</td>\n",
       "      <td>24.000000</td>\n",
       "      <td>0.000000</td>\n",
       "      <td>0.000000</td>\n",
       "      <td>0.000000</td>\n",
       "      <td>0.00000</td>\n",
       "      <td>0.000000</td>\n",
       "      <td>0.00000</td>\n",
       "      <td>0.000000</td>\n",
       "      <td>23.630000</td>\n",
       "      <td>4.800000</td>\n",
       "      <td>100.000000</td>\n",
       "      <td>0.000000</td>\n",
       "    </tr>\n",
       "    <tr>\n",
       "      <th>50%</th>\n",
       "      <td>2019.000000</td>\n",
       "      <td>43.000000</td>\n",
       "      <td>0.000000</td>\n",
       "      <td>0.000000</td>\n",
       "      <td>0.000000</td>\n",
       "      <td>0.00000</td>\n",
       "      <td>0.000000</td>\n",
       "      <td>0.00000</td>\n",
       "      <td>0.000000</td>\n",
       "      <td>27.320000</td>\n",
       "      <td>5.800000</td>\n",
       "      <td>140.000000</td>\n",
       "      <td>0.000000</td>\n",
       "    </tr>\n",
       "    <tr>\n",
       "      <th>75%</th>\n",
       "      <td>2019.000000</td>\n",
       "      <td>60.000000</td>\n",
       "      <td>0.000000</td>\n",
       "      <td>0.000000</td>\n",
       "      <td>0.000000</td>\n",
       "      <td>0.00000</td>\n",
       "      <td>0.000000</td>\n",
       "      <td>0.00000</td>\n",
       "      <td>0.000000</td>\n",
       "      <td>29.580000</td>\n",
       "      <td>6.200000</td>\n",
       "      <td>159.000000</td>\n",
       "      <td>0.000000</td>\n",
       "    </tr>\n",
       "    <tr>\n",
       "      <th>max</th>\n",
       "      <td>2022.000000</td>\n",
       "      <td>80.000000</td>\n",
       "      <td>1.000000</td>\n",
       "      <td>1.000000</td>\n",
       "      <td>1.000000</td>\n",
       "      <td>1.00000</td>\n",
       "      <td>1.000000</td>\n",
       "      <td>1.00000</td>\n",
       "      <td>1.000000</td>\n",
       "      <td>95.690000</td>\n",
       "      <td>9.000000</td>\n",
       "      <td>300.000000</td>\n",
       "      <td>1.000000</td>\n",
       "    </tr>\n",
       "  </tbody>\n",
       "</table>\n",
       "</div>"
      ],
      "text/plain": [
       "                year            age  race:AfricanAmerican     race:Asian  \\\n",
       "count  100000.000000  100000.000000         100000.000000  100000.000000   \n",
       "mean     2018.360820      41.885856              0.202230       0.200150   \n",
       "std         1.345239      22.516840              0.401665       0.400114   \n",
       "min      2015.000000       0.080000              0.000000       0.000000   \n",
       "25%      2019.000000      24.000000              0.000000       0.000000   \n",
       "50%      2019.000000      43.000000              0.000000       0.000000   \n",
       "75%      2019.000000      60.000000              0.000000       0.000000   \n",
       "max      2022.000000      80.000000              1.000000       1.000000   \n",
       "\n",
       "       race:Caucasian  race:Hispanic     race:Other  hypertension  \\\n",
       "count   100000.000000   100000.00000  100000.000000  100000.00000   \n",
       "mean         0.198760        0.19888       0.199980       0.07485   \n",
       "std          0.399069        0.39916       0.399987       0.26315   \n",
       "min          0.000000        0.00000       0.000000       0.00000   \n",
       "25%          0.000000        0.00000       0.000000       0.00000   \n",
       "50%          0.000000        0.00000       0.000000       0.00000   \n",
       "75%          0.000000        0.00000       0.000000       0.00000   \n",
       "max          1.000000        1.00000       1.000000       1.00000   \n",
       "\n",
       "       heart_disease            bmi    hbA1c_level  blood_glucose_level  \\\n",
       "count  100000.000000  100000.000000  100000.000000        100000.000000   \n",
       "mean        0.039420      27.320767       5.527507           138.058060   \n",
       "std         0.194593       6.636783       1.070672            40.708136   \n",
       "min         0.000000      10.010000       3.500000            80.000000   \n",
       "25%         0.000000      23.630000       4.800000           100.000000   \n",
       "50%         0.000000      27.320000       5.800000           140.000000   \n",
       "75%         0.000000      29.580000       6.200000           159.000000   \n",
       "max         1.000000      95.690000       9.000000           300.000000   \n",
       "\n",
       "            diabetes  \n",
       "count  100000.000000  \n",
       "mean        0.085000  \n",
       "std         0.278883  \n",
       "min         0.000000  \n",
       "25%         0.000000  \n",
       "50%         0.000000  \n",
       "75%         0.000000  \n",
       "max         1.000000  "
      ]
     },
     "execution_count": 39,
     "metadata": {},
     "output_type": "execute_result"
    }
   ],
   "source": [
    "df.describe()"
   ]
  },
  {
   "cell_type": "code",
   "execution_count": 40,
   "id": "5d91b22f",
   "metadata": {},
   "outputs": [],
   "source": [
    "df = df.drop(['year','gender','location','clinical_notes', 'smoking_history','race:AfricanAmerican','race:Asian','race:Caucasian','race:Hispanic','race:Other',  ], axis =1)"
   ]
  },
  {
   "cell_type": "code",
   "execution_count": 41,
   "id": "fc18cd69",
   "metadata": {},
   "outputs": [
    {
     "data": {
      "text/html": [
       "<div>\n",
       "<style scoped>\n",
       "    .dataframe tbody tr th:only-of-type {\n",
       "        vertical-align: middle;\n",
       "    }\n",
       "\n",
       "    .dataframe tbody tr th {\n",
       "        vertical-align: top;\n",
       "    }\n",
       "\n",
       "    .dataframe thead th {\n",
       "        text-align: right;\n",
       "    }\n",
       "</style>\n",
       "<table border=\"1\" class=\"dataframe\">\n",
       "  <thead>\n",
       "    <tr style=\"text-align: right;\">\n",
       "      <th></th>\n",
       "      <th>age</th>\n",
       "      <th>hypertension</th>\n",
       "      <th>heart_disease</th>\n",
       "      <th>bmi</th>\n",
       "      <th>hbA1c_level</th>\n",
       "      <th>blood_glucose_level</th>\n",
       "      <th>diabetes</th>\n",
       "    </tr>\n",
       "  </thead>\n",
       "  <tbody>\n",
       "    <tr>\n",
       "      <th>count</th>\n",
       "      <td>100000.000000</td>\n",
       "      <td>100000.00000</td>\n",
       "      <td>100000.000000</td>\n",
       "      <td>100000.000000</td>\n",
       "      <td>100000.000000</td>\n",
       "      <td>100000.000000</td>\n",
       "      <td>100000.000000</td>\n",
       "    </tr>\n",
       "    <tr>\n",
       "      <th>mean</th>\n",
       "      <td>41.885856</td>\n",
       "      <td>0.07485</td>\n",
       "      <td>0.039420</td>\n",
       "      <td>27.320767</td>\n",
       "      <td>5.527507</td>\n",
       "      <td>138.058060</td>\n",
       "      <td>0.085000</td>\n",
       "    </tr>\n",
       "    <tr>\n",
       "      <th>std</th>\n",
       "      <td>22.516840</td>\n",
       "      <td>0.26315</td>\n",
       "      <td>0.194593</td>\n",
       "      <td>6.636783</td>\n",
       "      <td>1.070672</td>\n",
       "      <td>40.708136</td>\n",
       "      <td>0.278883</td>\n",
       "    </tr>\n",
       "    <tr>\n",
       "      <th>min</th>\n",
       "      <td>0.080000</td>\n",
       "      <td>0.00000</td>\n",
       "      <td>0.000000</td>\n",
       "      <td>10.010000</td>\n",
       "      <td>3.500000</td>\n",
       "      <td>80.000000</td>\n",
       "      <td>0.000000</td>\n",
       "    </tr>\n",
       "    <tr>\n",
       "      <th>25%</th>\n",
       "      <td>24.000000</td>\n",
       "      <td>0.00000</td>\n",
       "      <td>0.000000</td>\n",
       "      <td>23.630000</td>\n",
       "      <td>4.800000</td>\n",
       "      <td>100.000000</td>\n",
       "      <td>0.000000</td>\n",
       "    </tr>\n",
       "    <tr>\n",
       "      <th>50%</th>\n",
       "      <td>43.000000</td>\n",
       "      <td>0.00000</td>\n",
       "      <td>0.000000</td>\n",
       "      <td>27.320000</td>\n",
       "      <td>5.800000</td>\n",
       "      <td>140.000000</td>\n",
       "      <td>0.000000</td>\n",
       "    </tr>\n",
       "    <tr>\n",
       "      <th>75%</th>\n",
       "      <td>60.000000</td>\n",
       "      <td>0.00000</td>\n",
       "      <td>0.000000</td>\n",
       "      <td>29.580000</td>\n",
       "      <td>6.200000</td>\n",
       "      <td>159.000000</td>\n",
       "      <td>0.000000</td>\n",
       "    </tr>\n",
       "    <tr>\n",
       "      <th>max</th>\n",
       "      <td>80.000000</td>\n",
       "      <td>1.00000</td>\n",
       "      <td>1.000000</td>\n",
       "      <td>95.690000</td>\n",
       "      <td>9.000000</td>\n",
       "      <td>300.000000</td>\n",
       "      <td>1.000000</td>\n",
       "    </tr>\n",
       "  </tbody>\n",
       "</table>\n",
       "</div>"
      ],
      "text/plain": [
       "                 age  hypertension  heart_disease            bmi  \\\n",
       "count  100000.000000  100000.00000  100000.000000  100000.000000   \n",
       "mean       41.885856       0.07485       0.039420      27.320767   \n",
       "std        22.516840       0.26315       0.194593       6.636783   \n",
       "min         0.080000       0.00000       0.000000      10.010000   \n",
       "25%        24.000000       0.00000       0.000000      23.630000   \n",
       "50%        43.000000       0.00000       0.000000      27.320000   \n",
       "75%        60.000000       0.00000       0.000000      29.580000   \n",
       "max        80.000000       1.00000       1.000000      95.690000   \n",
       "\n",
       "         hbA1c_level  blood_glucose_level       diabetes  \n",
       "count  100000.000000        100000.000000  100000.000000  \n",
       "mean        5.527507           138.058060       0.085000  \n",
       "std         1.070672            40.708136       0.278883  \n",
       "min         3.500000            80.000000       0.000000  \n",
       "25%         4.800000           100.000000       0.000000  \n",
       "50%         5.800000           140.000000       0.000000  \n",
       "75%         6.200000           159.000000       0.000000  \n",
       "max         9.000000           300.000000       1.000000  "
      ]
     },
     "execution_count": 41,
     "metadata": {},
     "output_type": "execute_result"
    }
   ],
   "source": [
    "df.describe()"
   ]
  },
  {
   "cell_type": "code",
   "execution_count": 42,
   "id": "071978d0",
   "metadata": {},
   "outputs": [
    {
     "data": {
      "text/plain": [
       "pandas.core.frame.DataFrame"
      ]
     },
     "execution_count": 42,
     "metadata": {},
     "output_type": "execute_result"
    }
   ],
   "source": [
    "type(df)"
   ]
  },
  {
   "cell_type": "code",
   "execution_count": 43,
   "id": "993e15fb",
   "metadata": {},
   "outputs": [
    {
     "name": "stdout",
     "output_type": "stream",
     "text": [
      "(100000, 6)   (100000,)\n"
     ]
    }
   ],
   "source": [
    "X = df.iloc[:,:-1]  # Select all rows and all columns except the last one\n",
    "y = df.iloc[:, -1] \n",
    "\n",
    "print( X.shape, \" \", y.shape)"
   ]
  },
  {
   "cell_type": "code",
   "execution_count": 44,
   "id": "3d5c1239",
   "metadata": {},
   "outputs": [
    {
     "data": {
      "text/html": [
       "<div>\n",
       "<style scoped>\n",
       "    .dataframe tbody tr th:only-of-type {\n",
       "        vertical-align: middle;\n",
       "    }\n",
       "\n",
       "    .dataframe tbody tr th {\n",
       "        vertical-align: top;\n",
       "    }\n",
       "\n",
       "    .dataframe thead th {\n",
       "        text-align: right;\n",
       "    }\n",
       "</style>\n",
       "<table border=\"1\" class=\"dataframe\">\n",
       "  <thead>\n",
       "    <tr style=\"text-align: right;\">\n",
       "      <th></th>\n",
       "      <th>age</th>\n",
       "      <th>hypertension</th>\n",
       "      <th>heart_disease</th>\n",
       "      <th>bmi</th>\n",
       "      <th>hbA1c_level</th>\n",
       "      <th>blood_glucose_level</th>\n",
       "      <th>diabetes</th>\n",
       "    </tr>\n",
       "  </thead>\n",
       "  <tbody>\n",
       "    <tr>\n",
       "      <th>0</th>\n",
       "      <td>32.0</td>\n",
       "      <td>0</td>\n",
       "      <td>0</td>\n",
       "      <td>27.32</td>\n",
       "      <td>5.0</td>\n",
       "      <td>100</td>\n",
       "      <td>0</td>\n",
       "    </tr>\n",
       "    <tr>\n",
       "      <th>1</th>\n",
       "      <td>29.0</td>\n",
       "      <td>0</td>\n",
       "      <td>0</td>\n",
       "      <td>19.95</td>\n",
       "      <td>5.0</td>\n",
       "      <td>90</td>\n",
       "      <td>0</td>\n",
       "    </tr>\n",
       "    <tr>\n",
       "      <th>2</th>\n",
       "      <td>18.0</td>\n",
       "      <td>0</td>\n",
       "      <td>0</td>\n",
       "      <td>23.76</td>\n",
       "      <td>4.8</td>\n",
       "      <td>160</td>\n",
       "      <td>0</td>\n",
       "    </tr>\n",
       "    <tr>\n",
       "      <th>3</th>\n",
       "      <td>41.0</td>\n",
       "      <td>0</td>\n",
       "      <td>0</td>\n",
       "      <td>27.32</td>\n",
       "      <td>4.0</td>\n",
       "      <td>159</td>\n",
       "      <td>0</td>\n",
       "    </tr>\n",
       "    <tr>\n",
       "      <th>4</th>\n",
       "      <td>52.0</td>\n",
       "      <td>0</td>\n",
       "      <td>0</td>\n",
       "      <td>23.75</td>\n",
       "      <td>6.5</td>\n",
       "      <td>90</td>\n",
       "      <td>0</td>\n",
       "    </tr>\n",
       "  </tbody>\n",
       "</table>\n",
       "</div>"
      ],
      "text/plain": [
       "    age  hypertension  heart_disease    bmi  hbA1c_level  blood_glucose_level  \\\n",
       "0  32.0             0              0  27.32          5.0                  100   \n",
       "1  29.0             0              0  19.95          5.0                   90   \n",
       "2  18.0             0              0  23.76          4.8                  160   \n",
       "3  41.0             0              0  27.32          4.0                  159   \n",
       "4  52.0             0              0  23.75          6.5                   90   \n",
       "\n",
       "   diabetes  \n",
       "0         0  \n",
       "1         0  \n",
       "2         0  \n",
       "3         0  \n",
       "4         0  "
      ]
     },
     "execution_count": 44,
     "metadata": {},
     "output_type": "execute_result"
    }
   ],
   "source": [
    "df.head()"
   ]
  },
  {
   "cell_type": "code",
   "execution_count": 45,
   "id": "0dd08510",
   "metadata": {},
   "outputs": [
    {
     "data": {
      "text/plain": [
       "pandas.core.frame.DataFrame"
      ]
     },
     "execution_count": 45,
     "metadata": {},
     "output_type": "execute_result"
    }
   ],
   "source": [
    "type(X)"
   ]
  },
  {
   "cell_type": "code",
   "execution_count": 46,
   "id": "ca62d1ca",
   "metadata": {},
   "outputs": [
    {
     "data": {
      "text/plain": [
       "(100000, 6)"
      ]
     },
     "execution_count": 46,
     "metadata": {},
     "output_type": "execute_result"
    }
   ],
   "source": [
    "X.shape"
   ]
  },
  {
   "cell_type": "code",
   "execution_count": 47,
   "id": "d7912bd9",
   "metadata": {},
   "outputs": [],
   "source": [
    "X = X.to_numpy()"
   ]
  },
  {
   "cell_type": "code",
   "execution_count": 48,
   "id": "38a30309",
   "metadata": {},
   "outputs": [
    {
     "data": {
      "text/plain": [
       "(100000, 6)"
      ]
     },
     "execution_count": 48,
     "metadata": {},
     "output_type": "execute_result"
    }
   ],
   "source": [
    "X.shape"
   ]
  },
  {
   "cell_type": "code",
   "execution_count": 49,
   "id": "98290325",
   "metadata": {},
   "outputs": [
    {
     "data": {
      "text/plain": [
       "(100000,)"
      ]
     },
     "execution_count": 49,
     "metadata": {},
     "output_type": "execute_result"
    }
   ],
   "source": [
    "y = y.to_numpy()\n",
    "y.shape"
   ]
  },
  {
   "cell_type": "code",
   "execution_count": 58,
   "id": "80835a8c",
   "metadata": {},
   "outputs": [],
   "source": [
    "import tensorflow as tf\n",
    "from tensorflow import keras\n",
    "from tensorflow.keras import layers\n",
    "import numpy as np\n",
    "from sklearn.model_selection import train_test_split\n",
    "from sklearn.metrics import accuracy_score, precision_score, recall_score, f1_score, confusion_matrix, classification_report, roc_curve, auc, roc_auc_score\n",
    "import matplotlib.pyplot as plt\n",
    "\n",
    "X_train, X_test, y_train, y_test = train_test_split(X, y, test_size=0.2, random_state=42)"
   ]
  },
  {
   "cell_type": "code",
   "execution_count": 59,
   "id": "a244370a",
   "metadata": {},
   "outputs": [
    {
     "data": {
      "text/plain": [
       "(80000,)"
      ]
     },
     "execution_count": 59,
     "metadata": {},
     "output_type": "execute_result"
    }
   ],
   "source": [
    "y_train.shape"
   ]
  },
  {
   "cell_type": "code",
   "execution_count": 60,
   "id": "6c0344ca",
   "metadata": {},
   "outputs": [
    {
     "data": {
      "text/plain": [
       "(80000, 6)"
      ]
     },
     "execution_count": 60,
     "metadata": {},
     "output_type": "execute_result"
    }
   ],
   "source": [
    "X_train.shape"
   ]
  },
  {
   "cell_type": "code",
   "execution_count": 62,
   "id": "3a6b282b",
   "metadata": {},
   "outputs": [
    {
     "name": "stdout",
     "output_type": "stream",
     "text": [
      "Epoch 1/20\n",
      "2000/2000 [==============================] - 2s 1ms/step - loss: 0.4505 - Accuracy: 0.9001 - val_loss: 0.2692 - val_Accuracy: 0.9146\n",
      "Epoch 2/20\n",
      "2000/2000 [==============================] - 2s 948us/step - loss: 0.2680 - Accuracy: 0.9169 - val_loss: 0.2390 - val_Accuracy: 0.9254\n",
      "Epoch 3/20\n",
      "2000/2000 [==============================] - 2s 954us/step - loss: 0.2390 - Accuracy: 0.9250 - val_loss: 0.2177 - val_Accuracy: 0.9331\n",
      "Epoch 4/20\n",
      "2000/2000 [==============================] - 2s 972us/step - loss: 0.2257 - Accuracy: 0.9270 - val_loss: 0.1991 - val_Accuracy: 0.9334\n",
      "Epoch 5/20\n",
      "2000/2000 [==============================] - 2s 937us/step - loss: 0.2030 - Accuracy: 0.9302 - val_loss: 0.1818 - val_Accuracy: 0.9330\n",
      "Epoch 6/20\n",
      "2000/2000 [==============================] - 2s 983us/step - loss: 0.1824 - Accuracy: 0.9345 - val_loss: 0.1522 - val_Accuracy: 0.9398\n",
      "Epoch 7/20\n",
      "2000/2000 [==============================] - 2s 938us/step - loss: 0.1694 - Accuracy: 0.9398 - val_loss: 0.1727 - val_Accuracy: 0.9334\n",
      "Epoch 8/20\n",
      "2000/2000 [==============================] - 2s 937us/step - loss: 0.1581 - Accuracy: 0.9447 - val_loss: 0.1641 - val_Accuracy: 0.9380\n",
      "Epoch 9/20\n",
      "2000/2000 [==============================] - 2s 953us/step - loss: 0.1530 - Accuracy: 0.9467 - val_loss: 0.1747 - val_Accuracy: 0.9361\n",
      "Epoch 10/20\n",
      "2000/2000 [==============================] - 2s 946us/step - loss: 0.1468 - Accuracy: 0.9490 - val_loss: 0.1620 - val_Accuracy: 0.9398\n",
      "Epoch 11/20\n",
      "2000/2000 [==============================] - 2s 940us/step - loss: 0.1411 - Accuracy: 0.9508 - val_loss: 0.1551 - val_Accuracy: 0.9459\n",
      "Epoch 12/20\n",
      "2000/2000 [==============================] - 2s 960us/step - loss: 0.1376 - Accuracy: 0.9520 - val_loss: 0.1386 - val_Accuracy: 0.9511\n",
      "Epoch 13/20\n",
      "2000/2000 [==============================] - 2s 943us/step - loss: 0.1380 - Accuracy: 0.9528 - val_loss: 0.1867 - val_Accuracy: 0.9403\n",
      "Epoch 14/20\n",
      "2000/2000 [==============================] - 2s 945us/step - loss: 0.1336 - Accuracy: 0.9537 - val_loss: 0.1444 - val_Accuracy: 0.9454\n",
      "Epoch 15/20\n",
      "2000/2000 [==============================] - 2s 927us/step - loss: 0.1329 - Accuracy: 0.9538 - val_loss: 0.1720 - val_Accuracy: 0.9373\n",
      "Epoch 16/20\n",
      "2000/2000 [==============================] - 2s 949us/step - loss: 0.1295 - Accuracy: 0.9552 - val_loss: 0.1737 - val_Accuracy: 0.9371\n",
      "Epoch 17/20\n",
      "2000/2000 [==============================] - 2s 943us/step - loss: 0.1304 - Accuracy: 0.9548 - val_loss: 0.1358 - val_Accuracy: 0.9513\n",
      "Epoch 18/20\n",
      "2000/2000 [==============================] - 2s 961us/step - loss: 0.1301 - Accuracy: 0.9547 - val_loss: 0.1474 - val_Accuracy: 0.9457\n",
      "Epoch 19/20\n",
      "2000/2000 [==============================] - 2s 939us/step - loss: 0.1278 - Accuracy: 0.9561 - val_loss: 0.1768 - val_Accuracy: 0.9414\n",
      "Epoch 20/20\n",
      "2000/2000 [==============================] - 2s 945us/step - loss: 0.1271 - Accuracy: 0.9568 - val_loss: 0.1508 - val_Accuracy: 0.9500\n",
      "625/625 [==============================] - 0s 591us/step\n",
      "Accuracy: 0.91485\n",
      "Precision (macro): 0.457425\n",
      "Recall (macro): 0.5\n",
      "F1-score (macro): 0.47776588244510015\n",
      "Confusion Matrix:\n",
      "[[18297     0]\n",
      " [ 1703     0]]\n",
      "Classification Report:\n",
      "              precision    recall  f1-score   support\n",
      "\n",
      "           0       0.91      1.00      0.96     18297\n",
      "           1       0.00      0.00      0.00      1703\n",
      "\n",
      "    accuracy                           0.91     20000\n",
      "   macro avg       0.46      0.50      0.48     20000\n",
      "weighted avg       0.84      0.91      0.87     20000\n",
      "\n"
     ]
    },
    {
     "name": "stderr",
     "output_type": "stream",
     "text": [
      "/usr/local/lib/python3.10/dist-packages/sklearn/metrics/_classification.py:1344: UndefinedMetricWarning: Precision is ill-defined and being set to 0.0 in labels with no predicted samples. Use `zero_division` parameter to control this behavior.\n",
      "  _warn_prf(average, modifier, msg_start, len(result))\n",
      "/usr/local/lib/python3.10/dist-packages/sklearn/metrics/_classification.py:1344: UndefinedMetricWarning: Precision and F-score are ill-defined and being set to 0.0 in labels with no predicted samples. Use `zero_division` parameter to control this behavior.\n",
      "  _warn_prf(average, modifier, msg_start, len(result))\n",
      "/usr/local/lib/python3.10/dist-packages/sklearn/metrics/_classification.py:1344: UndefinedMetricWarning: Precision and F-score are ill-defined and being set to 0.0 in labels with no predicted samples. Use `zero_division` parameter to control this behavior.\n",
      "  _warn_prf(average, modifier, msg_start, len(result))\n",
      "/usr/local/lib/python3.10/dist-packages/sklearn/metrics/_classification.py:1344: UndefinedMetricWarning: Precision and F-score are ill-defined and being set to 0.0 in labels with no predicted samples. Use `zero_division` parameter to control this behavior.\n",
      "  _warn_prf(average, modifier, msg_start, len(result))\n"
     ]
    },
    {
     "data": {
      "image/png": "[encoded data removed]",
      "text/plain": [
       "<Figure size 640x480 with 1 Axes>"
      ]
     },
     "metadata": {},
     "output_type": "display_data"
    }
   ],
   "source": [
    "# Define the model (using softmax output)\n",
    "model = keras.Sequential([\n",
    "    layers.Dense(64, activation='relu', input_shape=(6,)),\n",
    "    layers.Dropout(0.2),\n",
    "    layers.Dense(32, activation='relu'),\n",
    "    layers.Dropout(0.2),\n",
    "    layers.Dense(1, activation='sigmoid')  \n",
    "])\n",
    "\n",
    "# Compile the model (CategoricalCrossentropy loss and metrics)\n",
    "model.compile(optimizer='adam',\n",
    "              loss='binary_crossentropy',  # Important for multi-class with integer labels\n",
    "              metrics=['Accuracy'])  # Only Accuracy here if labels are integers\n",
    "\n",
    "# Train the model\n",
    "history = model.fit(X_train, y_train, epochs=20, batch_size=32, validation_split=0.2)\n",
    "\n",
    "# Evaluate the model\n",
    "y_pred_probs = model.predict(X_test) # Get probabilities\n",
    "y_pred = np.argmax(y_pred_probs, axis=1)  # Get predicted class labels\n",
    "\n",
    "# Calculate metrics (using sklearn)\n",
    "accuracy = accuracy_score(y_test, y_pred)\n",
    "precision = precision_score(y_test, y_pred, average='macro')\n",
    "recall = recall_score(y_test, y_pred, average='macro')\n",
    "f1 = f1_score(y_test, y_pred, average='macro')\n",
    "conf_matrix = confusion_matrix(y_test, y_pred)\n",
    "class_report = classification_report(y_test, y_pred)\n",
    "\n",
    "print(f\"Accuracy: {accuracy}\")\n",
    "print(f\"Precision (macro): {precision}\")\n",
    "print(f\"Recall (macro): {recall}\")\n",
    "print(f\"F1-score (macro): {f1}\")\n",
    "print(f\"Confusion Matrix:\\n{conf_matrix}\")\n",
    "print(f\"Classification Report:\\n{class_report}\")\n",
    "\n",
    "# Calculate ROC curve\n",
    "fpr, tpr, thresholds = roc_curve(y_test, y_pred_probs)\n",
    "\n",
    "# Calculate AUC (Area Under the Curve)\n",
    "roc_auc = roc_auc_score(y_test,y_pred_probs)\n",
    "\n",
    "# Plot the ROC curve\n",
    "plt.figure()\n",
    "plt.plot(fpr, tpr, label=f'ROC curve (AUC = {roc_auc:.2f})')\n",
    "#plt.plot(,, 'k--')  # Diagonal line for random chance\n",
    "plt.xlabel('False Positive Rate')\n",
    "plt.ylabel('True Positive Rate')\n",
    "plt.title('Receiver Operating Characteristic (ROC) Curve')\n",
    "plt.legend(loc=\"lower right\")\n",
    "plt.show()"
   ]
  },
  {
   "cell_type": "code",
   "execution_count": 63,
   "id": "b6118020",
   "metadata": {},
   "outputs": [
    {
     "data": {
      "image/png": "[encoded data removed]",
      "text/plain": [
       "<Figure size 640x480 with 1 Axes>"
      ]
     },
     "metadata": {},
     "output_type": "display_data"
    }
   ],
   "source": [
    "plt.plot(history.history['Accuracy'], label='Training Accuracy')\n",
    "plt.plot(history.history['val_Accuracy'], label='Validation Accuracy')\n",
    "plt.xlabel('Epoch')\n",
    "plt.ylabel('Accuracy')\n",
    "plt.legend()\n",
    "plt.show()"
   ]
  },
  {
   "cell_type": "code",
   "execution_count": null,
   "id": "a2443904",
   "metadata": {},
   "outputs": [],
   "source": []
  }
 ],
 "metadata": {
  "kernelspec": {
   "display_name": "Python 3 (ipykernel)",
   "language": "python",
   "name": "python3"
  },
  "language_info": {
   "codemirror_mode": {
    "name": "ipython",
    "version": 3
   },
   "file_extension": ".py",
   "mimetype": "text/x-python",
   "name": "python",
   "nbconvert_exporter": "python",
   "pygments_lexer": "ipython3",
   "version": "3.10.12"
  }
 },
 "nbformat": 4,
 "nbformat_minor": 5
}
