{
 "cells": [
  {
   "cell_type": "markdown",
   "id": "45239346",
   "metadata": {},
   "source": [
    "## Focus on metrics that assess the quality of the inherent groupings found within the data. Here's a breakdown of commonly used metrics and a Python example:\n",
    "\n",
    "# Key Metrics:\n",
    "\n",
    "## Silhouette Coefficient:\n",
    "Measures how similar an object is to its own cluster compared to other clusters.\n",
    "Ranges from -1 to 1:\n",
    "1: Well-separated clusters.\n",
    "0: Overlapping clusters.\n",
    "-1: Incorrect clustering.\n",
    "## Calinski-Harabasz Index:\n",
    "Calculates the ratio of between-cluster variance to within-cluster variance.\n",
    "Higher values indicate better-defined clusters.\n",
    "##Davies-Bouldin Index:\n",
    "Measures the average similarity between each cluster and its most similar cluster.\n",
    "Lower values indicate better clustering.   \n",
    "  \n",
    "## Inertia (for K-Means):\n",
    "Calculates the sum of squared distances of samples to their closest cluster center.\n",
    "Lower inertia indicates denser clusters.\n",
    "Adjusted Rand Index (ARI):\n",
    "If ground truth labels are available, the ARI measures the similarity between true labels and predicted cluster labels, adjusting for chance.\n",
    "Ranges from -1 to 1, with 1 being a perfect match."
   ]
  },
  {
   "cell_type": "code",
   "execution_count": 1,
   "id": "1e653b42",
   "metadata": {},
   "outputs": [
    {
     "name": "stdout",
     "output_type": "stream",
     "text": [
      "Silhouette Coefficient: 0.7915830011443039\n",
      "Calinski-Harabasz Index: 3386.414706995127\n",
      "Davies-Bouldin Index: 0.2905354431615239\n",
      "K-Means Inertia: 564.9141808210254\n",
      "Adjusted Rand Index: 0.9910811504997546\n"
     ]
    },
    {
     "name": "stderr",
     "output_type": "stream",
     "text": [
      "/usr/local/lib/python3.10/dist-packages/sklearn/cluster/_kmeans.py:870: FutureWarning: The default value of `n_init` will change from 10 to 'auto' in 1.4. Set the value of `n_init` explicitly to suppress the warning\n",
      "  warnings.warn(\n"
     ]
    }
   ],
   "source": [
    "import numpy as np\n",
    "from sklearn.cluster import KMeans\n",
    "from sklearn.metrics import (\n",
    "    silhouette_score,\n",
    "    calinski_harabasz_score,\n",
    "    davies_bouldin_score,\n",
    "    adjusted_rand_score,\n",
    ")\n",
    "from sklearn.datasets import make_blobs\n",
    "\n",
    "# Generate sample data\n",
    "X, y = make_blobs(n_samples=300, centers=4, random_state=42)\n",
    "\n",
    "# Apply K-Means clustering\n",
    "kmeans = KMeans(n_clusters=4, random_state=42)\n",
    "labels = kmeans.fit_predict(X)\n",
    "\n",
    "# Calculate metrics\n",
    "silhouette = silhouette_score(X, labels)\n",
    "calinski_harabasz = calinski_harabasz_score(X, labels)\n",
    "davies_bouldin = davies_bouldin_score(X, labels)\n",
    "inertia = kmeans.inertia_\n",
    "\n",
    "print(f\"Silhouette Coefficient: {silhouette}\")\n",
    "print(f\"Calinski-Harabasz Index: {calinski_harabasz}\")\n",
    "print(f\"Davies-Bouldin Index: {davies_bouldin}\")\n",
    "print(f\"K-Means Inertia: {inertia}\")\n",
    "\n",
    "#If you have the true labels you can also calculate the adjusted rand index.\n",
    "if y is not None:\n",
    "    ari = adjusted_rand_score(y,labels)\n",
    "    print(f\"Adjusted Rand Index: {ari}\")"
   ]
  },
  {
   "cell_type": "code",
   "execution_count": null,
   "id": "f3b90d15",
   "metadata": {},
   "outputs": [],
   "source": []
  }
 ],
 "metadata": {
  "kernelspec": {
   "display_name": "Python 3 (ipykernel)",
   "language": "python",
   "name": "python3"
  },
  "language_info": {
   "codemirror_mode": {
    "name": "ipython",
    "version": 3
   },
   "file_extension": ".py",
   "mimetype": "text/x-python",
   "name": "python",
   "nbconvert_exporter": "python",
   "pygments_lexer": "ipython3",
   "version": "3.10.12"
  }
 },
 "nbformat": 4,
 "nbformat_minor": 5
}
