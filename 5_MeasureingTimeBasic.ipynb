{
 "cells": [
  {
   "cell_type": "code",
   "execution_count": 1,
   "id": "db320e82",
   "metadata": {},
   "outputs": [],
   "source": [
    "import time\n",
    "import numpy as np\n",
    "from sklearn.linear_model import LinearRegression  # Example model\n",
    "\n",
    "# Generate some sample data (replace with your actual data)\n",
    "X_train = np.random.rand(10000, 10)  # 10,000 samples, 10 features\n",
    "y_train = np.random.rand(10000)\n",
    "X_test = np.random.rand(1000, 10)   # 1,000 samples, 10 features"
   ]
  },
  {
   "cell_type": "code",
   "execution_count": 2,
   "id": "fc13b50a",
   "metadata": {},
   "outputs": [
    {
     "name": "stdout",
     "output_type": "stream",
     "text": [
      "Training time: 0.0045 seconds\n"
     ]
    }
   ],
   "source": [
    "# 1. Training Time Measurement\n",
    "\n",
    "model = LinearRegression()  # Initialize your model\n",
    "\n",
    "start_time_train = time.time()  # Record start time\n",
    "model.fit(X_train, y_train)     # Train the model\n",
    "end_time_train = time.time()    # Record end time\n",
    "\n",
    "training_time = end_time_train - start_time_train\n",
    "print(f\"Training time: {training_time:.4f} seconds\")"
   ]
  },
  {
   "cell_type": "code",
   "execution_count": 3,
   "id": "f8a3759d",
   "metadata": {},
   "outputs": [
    {
     "name": "stdout",
     "output_type": "stream",
     "text": [
      "Single prediction time: 0.000185 seconds\n"
     ]
    }
   ],
   "source": [
    "# 2. Prediction Time Measurement (for a single prediction)\n",
    "\n",
    "# Option 1: Measuring time for a single prediction\n",
    "start_time_predict_single = time.time()\n",
    "single_prediction = model.predict(X_test[0].reshape(1, -1)) # Predict for one data point\n",
    "end_time_predict_single = time.time()\n",
    "prediction_time_single = end_time_predict_single - start_time_predict_single\n",
    "print(f\"Single prediction time: {prediction_time_single:.6f} seconds\")"
   ]
  },
  {
   "cell_type": "code",
   "execution_count": 4,
   "id": "199dc78b",
   "metadata": {},
   "outputs": [
    {
     "name": "stdout",
     "output_type": "stream",
     "text": [
      "Prediction time for 1000 samples: 0.0005 seconds\n",
      "Average prediction time per sample: 0.000001 seconds\n"
     ]
    }
   ],
   "source": [
    "# Option 2: Measuring time for multiple predictions (more realistic)\n",
    "num_predictions = len(X_test) # or any number you like\n",
    "\n",
    "start_time_predict_multiple = time.time()\n",
    "predictions = model.predict(X_test) # Predict for all (or a subset) of the test data\n",
    "end_time_predict_multiple = time.time()\n",
    "\n",
    "prediction_time_multiple = end_time_predict_multiple - start_time_predict_multiple\n",
    "print(f\"Prediction time for {num_predictions} samples: {prediction_time_multiple:.4f} seconds\")\n",
    "\n",
    "average_prediction_time = prediction_time_multiple / num_predictions\n",
    "print(f\"Average prediction time per sample: {average_prediction_time:.6f} seconds\")"
   ]
  },
  {
   "cell_type": "code",
   "execution_count": 5,
   "id": "afcc3572",
   "metadata": {},
   "outputs": [
    {
     "name": "stdout",
     "output_type": "stream",
     "text": [
      "Average training time over 10 runs: 0.0023 seconds\n"
     ]
    }
   ],
   "source": [
    "# Important Considerations:\n",
    "\n",
    "# - Data Size: The size of your training and test data significantly impacts the times.  Run with representative data.\n",
    "# - Model Complexity: More complex models (e.g., deep neural networks) will take longer to train and predict.\n",
    "# - Hardware:  Your CPU, RAM, and whether you're using a GPU will affect the times.\n",
    "# - Averaging: It's a good practice to run the timing multiple times and average the results to reduce the impact of system variations. You can use a loop for this.\n",
    "# - First Prediction: Often, the *very first* prediction can take slightly longer due to initialization overhead.  It's a good idea to do a \"warm-up\" prediction before starting your actual timing measurements.\n",
    "# - Batch Size (for prediction): When making predictions, especially with neural networks, processing data in batches is often more efficient.  Experiment with different batch sizes.\n",
    "# - Profiling: For more detailed analysis, consider using a code profiler (e.g., `cProfile` in Python) to see exactly where the time is being spent within the training or prediction process.\n",
    "\n",
    "# Example of averaging using a loop:\n",
    "num_runs = 10\n",
    "total_training_time = 0\n",
    "for _ in range(num_runs):\n",
    "    start_time_train = time.time()\n",
    "    model.fit(X_train, y_train)\n",
    "    end_time_train = time.time()\n",
    "    total_training_time += (end_time_train - start_time_train)\n",
    "\n",
    "average_training_time = total_training_time / num_runs\n",
    "print(f\"Average training time over {num_runs} runs: {average_training_time:.4f} seconds\")"
   ]
  },
  {
   "cell_type": "code",
   "execution_count": null,
   "id": "04db490d",
   "metadata": {},
   "outputs": [],
   "source": []
  }
 ],
 "metadata": {
  "kernelspec": {
   "display_name": "Python 3 (ipykernel)",
   "language": "python",
   "name": "python3"
  },
  "language_info": {
   "codemirror_mode": {
    "name": "ipython",
    "version": 3
   },
   "file_extension": ".py",
   "mimetype": "text/x-python",
   "name": "python",
   "nbconvert_exporter": "python",
   "pygments_lexer": "ipython3",
   "version": "3.10.12"
  }
 },
 "nbformat": 4,
 "nbformat_minor": 5
}
