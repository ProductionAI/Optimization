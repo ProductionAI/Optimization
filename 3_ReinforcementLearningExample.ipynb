{
 "cells": [
  {
   "cell_type": "markdown",
   "id": "e905d95f",
   "metadata": {},
   "source": [
    "Evaluating reinforcement learning (RL) models is distinct from supervised or unsupervised learning due to the sequential decision-making nature of RL. Here's a breakdown of key metrics and considerations:\n",
    "\n",
    "# Key Metrics:\n",
    "\n",
    "## Cumulative Reward:\n",
    "This is the most fundamental metric. It's the total reward an agent accumulates over an episode or a series of episodes.\n",
    "It directly reflects how well the agent is achieving its goal.\n",
    "## Average Reward:\n",
    "This provides a more stable measure, especially when episode lengths vary.\n",
    "It's calculated by averaging the rewards obtained per time step or per episode.\n",
    "Discounted Cumulative Reward:\n",
    "In many RL scenarios, future rewards are discounted. This metric accounts for the time value of rewards.\n",
    "It's useful for evaluating how well an agent balances immediate and long-term rewards.\n",
    "## Episode Length:\n",
    "The number of steps an agent takes to complete an episode.\n",
    "It can indicate the efficiency of the agent's policy.\n",
    "## Success Rate:\n",
    "In tasks with a clear definition of success or failure, this metric measures the percentage of episodes where the agent achieves the goal.\n",
    "## Sample Efficiency:\n",
    "Measures how many interactions with the environment the agent requires to learn an effective policy.\n",
    "Important when environment interactions are costly or time-consuming.\n",
    "## Robustness:\n",
    "How well the agent performs in varying or unexpected environments.\n",
    "Testing the agents ability to generalize.\n",
    "## Policy Entropy:\n",
    "Measures the randomness of the agent's policy.\n",
    "Higher entropy can encourage exploration, while lower entropy indicates a more deterministic policy."
   ]
  },
  {
   "cell_type": "code",
   "execution_count": null,
   "id": "20c8806b",
   "metadata": {},
   "outputs": [
    {
     "name": "stderr",
     "output_type": "stream",
     "text": [
      "/usr/local/lib/python3.10/dist-packages/gym/utils/passive_env_checker.py:233: DeprecationWarning: `np.bool8` is a deprecated alias for `np.bool_`.  (Deprecated NumPy 1.24)\n",
      "  if not isinstance(terminated, (bool, np.bool8)):\n"
     ]
    },
    {
     "name": "stdout",
     "output_type": "stream",
     "text": [
      "Average Reward: 0.0\n",
      "Average Episode Length: 1061.1462\n",
      "Success Rate: 0.0\n"
     ]
    },
    {
     "name": "stderr",
     "output_type": "stream",
     "text": [
      "/usr/local/lib/python3.10/dist-packages/gym/envs/toy_text/frozen_lake.py:271: UserWarning: \u001b[33mWARN: You are calling render method without specifying any render mode. You can specify the render_mode at initialization, e.g. gym(\"FrozenLake-v1\", render_mode=\"rgb_array\")\u001b[0m\n",
      "  logger.warn(\n"
     ]
    }
   ],
   "source": [
    "import numpy as np\n",
    "import gym\n",
    "import random\n",
    "\n",
    "# Create a simple FrozenLake environment (4x4)\n",
    "env = gym.make('FrozenLake-v1', is_slippery=False)  # Non-slippery for simplicity\n",
    "\n",
    "# Define the Q-learning agent\n",
    "class QLearningAgent:\n",
    "    def __init__(self, state_size, action_size, alpha=0.8, gamma=0.95, epsilon=1.0, epsilon_decay=0.001):\n",
    "        self.state_size = state_size\n",
    "        self.action_size = action_size\n",
    "        self.alpha = alpha  # Learning rate\n",
    "        self.gamma = gamma  # Discount factor\n",
    "        self.epsilon = epsilon  # Exploration rate\n",
    "        self.epsilon_decay = epsilon_decay\n",
    "        self.q_table = np.zeros((state_size, action_size))\n",
    "\n",
    "    def choose_action(self, state):\n",
    "        if random.uniform(0, 1) < self.epsilon:\n",
    "            return env.action_space.sample()  # Explore\n",
    "        else:\n",
    "            return np.argmax(self.q_table[state, :])  # Exploit\n",
    "\n",
    "    def learn(self, state, action, reward, next_state, done):\n",
    "        predict = self.q_table[state, action]\n",
    "        if done:\n",
    "            target = reward # if done, the next state value is 0.\n",
    "        else:\n",
    "            target = reward + self.gamma * np.max(self.q_table[next_state, :])\n",
    "\n",
    "        self.q_table[state, action] += self.alpha * (target - predict)\n",
    "        if self.epsilon > 0.01:\n",
    "            self.epsilon -= self.epsilon_decay\n",
    "\n",
    "# Initialize the agent\n",
    "agent = QLearningAgent(env.observation_space.n, env.action_space.n)\n",
    "\n",
    "# Training the agent\n",
    "num_episodes = 5000\n",
    "episode_rewards = []\n",
    "episode_lengths = []\n",
    "success_counts = 0\n",
    "\n",
    "for episode in range(num_episodes):\n",
    "    state, _ = env.reset() #Corrected line.\n",
    "    done = False\n",
    "    total_reward = 0\n",
    "    step_count = 0\n",
    "\n",
    "    while not done:\n",
    "        action = agent.choose_action(state)\n",
    "        next_state, reward, done, _, _ = env.step(action) #Corrected line.\n",
    "        agent.learn(state, action, reward, next_state, done)\n",
    "        total_reward += reward\n",
    "        state = next_state\n",
    "        step_count += 1\n",
    "\n",
    "    episode_rewards.append(total_reward)\n",
    "    episode_lengths.append(step_count)\n",
    "    if total_reward == 1: #success\n",
    "        success_counts += 1\n",
    "\n",
    "# Evaluation metrics\n",
    "average_reward = np.mean(episode_rewards)\n",
    "average_length = np.mean(episode_lengths)\n",
    "success_rate = success_counts / num_episodes\n",
    "\n",
    "print(f\"Average Reward: {average_reward}\")\n",
    "print(f\"Average Episode Length: {average_length}\")\n",
    "print(f\"Success Rate: {success_rate}\")\n",
    "\n",
    "#optional: show a few games played with the trained agent.\n",
    "\n",
    "num_test_episodes = 5\n",
    "for _ in range(num_test_episodes):\n",
    "    state, _ = env.reset() #Corrected line.\n",
    "    done = False\n",
    "    env.render()\n",
    "    while not done:\n",
    "        action = np.argmax(agent.q_table[state, :])\n",
    "        next_state, reward, done, _, _ = env.step(action) #corrected line\n",
    "        state = next_state\n",
    "        env.render()\n",
    "    print(\"---\")\n",
    "\n",
    "env.close()"
   ]
  },
  {
   "cell_type": "code",
   "execution_count": null,
   "id": "14dbbfa1",
   "metadata": {},
   "outputs": [],
   "source": []
  }
 ],
 "metadata": {
  "kernelspec": {
   "display_name": "Python 3 (ipykernel)",
   "language": "python",
   "name": "python3"
  },
  "language_info": {
   "codemirror_mode": {
    "name": "ipython",
    "version": 3
   },
   "file_extension": ".py",
   "mimetype": "text/x-python",
   "name": "python",
   "nbconvert_exporter": "python",
   "pygments_lexer": "ipython3",
   "version": "3.10.12"
  }
 },
 "nbformat": 4,
 "nbformat_minor": 5
}
