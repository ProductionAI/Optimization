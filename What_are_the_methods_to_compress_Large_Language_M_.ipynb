{
 "cells": [
  {
   "cell_type": "markdown",
   "metadata": {
    "id": "7o8zp8tnkqta"
   },
   "source": [
    "Compressing Large Language Models (LLMs) is crucial for deploying them on resource-constrained devices and reducing inference latency. Several methods exist, each with its trade-offs in terms of compression ratio and performance. Here's an overview of common techniques and code examples:\n",
    "\n",
    "**1. Quantization:**\n",
    "\n",
    "* **Concept:** Reduces the precision of model weights and activations (e.g., from 32-bit floating-point to 8-bit integer).\n",
    "* **Methods:**\n",
    "    * Post-Training Quantization (PTQ): Quantizes a pre-trained model without further training.\n",
    "    * Quantization-Aware Training (QAT): Incorporates quantization into the training process.\n",
    "* **Code (PyTorch PTQ):**"
   ]
  },
  {
   "cell_type": "code",
   "execution_count": null,
   "metadata": {
    "id": "Ig-bczbAkqtc"
   },
   "outputs": [],
   "source": [
    "import torch\n",
    "\n",
    "def quantize_model(model, num_bits=8):\n",
    "    \"\"\"Quantizes a PyTorch model to 8-bit integer.\"\"\"\n",
    "    quantized_model = torch.quantization.quantize_dynamic(\n",
    "        model, {torch.nn.Linear}, dtype=torch.qint8\n",
    "    )\n",
    "    return quantized_model\n",
    "\n",
    "# Example usage:\n",
    "# model = ... (your LLM)\n",
    "# quantized_model = quantize_model(model)\n",
    "# torch.jit.save(torch.jit.trace(quantized_model, torch.randn(1, 10)), \"quantized_model.pt\") #saves the quantized model."
   ]
  },
  {
   "cell_type": "markdown",
   "metadata": {
    "id": "nX3U3kggkqtd"
   },
   "source": [
    "* **Code (PyTorch QAT):**"
   ]
  },
  {
   "cell_type": "code",
   "execution_count": null,
   "metadata": {
    "id": "u0LJ03Lykqte"
   },
   "outputs": [],
   "source": [
    "import torch\n",
    "import torch.nn as nn\n",
    "\n",
    "def prepare_qat(model):\n",
    "    \"\"\"Prepares a model for quantization-aware training.\"\"\"\n",
    "    model.qconfig = torch.quantization.get_default_qat_qconfig('fbgemm')\n",
    "    torch.quantization.prepare_qat(model, inplace=True)\n",
    "\n",
    "def train_qat(model, train_loader, optimizer, num_epochs=1):\n",
    "    \"\"\"Trains a model with quantization-aware training.\"\"\"\n",
    "    for epoch in range(num_epochs):\n",
    "        for data, target in train_loader:\n",
    "            optimizer.zero_grad()\n",
    "            output = model(data)\n",
    "            loss = nn.functional.cross_entropy(output, target)\n",
    "            loss.backward()\n",
    "            optimizer.step()\n",
    "\n",
    "def convert_qat(model):\n",
    "    \"\"\"Converts a trained QAT model to a quantized model.\"\"\"\n",
    "    torch.quantization.convert(model, inplace=True)\n",
    "    return model\n",
    "\n",
    "#Example usage.\n",
    "#model = ... #your model\n",
    "#train_loader = ... #your dataloader\n",
    "#optimizer = torch.optim.SGD(model.parameters(), lr=0.01)\n",
    "#prepare_qat(model)\n",
    "#train_qat(model, train_loader, optimizer)\n",
    "#quantized_model = convert_qat(model)\n",
    "#torch.jit.save(torch.jit.trace(quantized_model, torch.randn(1, 10)), \"quantized_model_qat.pt\")"
   ]
  },
  {
   "cell_type": "markdown",
   "metadata": {
    "id": "t8aOMhWBkqte"
   },
   "source": [
    "**2. Pruning:**\n",
    "\n",
    "* **Concept:** Removes redundant or less important connections (weights) from the model.\n",
    "* **Methods:**\n",
    "    * Weight pruning: Sets individual weights to zero.\n",
    "    * Neuron pruning: Removes entire neurons.\n",
    "    * Structural Pruning: removes larger structures like attention heads.\n",
    "* **Code (PyTorch):**"
   ]
  },
  {
   "cell_type": "code",
   "execution_count": null,
   "metadata": {
    "id": "4_nwewh2kqte"
   },
   "outputs": [],
   "source": [
    "import torch.nn.utils.prune as prune\n",
    "\n",
    "def prune_model(model, amount=0.2):\n",
    "    \"\"\"Prunes a PyTorch model.\"\"\"\n",
    "    for name, module in model.named_modules():\n",
    "        if isinstance(module, torch.nn.Linear):\n",
    "            prune.l1_unstructured(module, name='weight', amount=amount)\n",
    "            prune.remove(module, 'weight') #makes the changes permanent.\n",
    "    return model\n",
    "\n",
    "# Example usage:\n",
    "# model = ... (your LLM)\n",
    "# pruned_model = prune_model(model)"
   ]
  },
  {
   "cell_type": "markdown",
   "metadata": {
    "id": "cR1XRd9Ikqtf"
   },
   "source": [
    "**3. Knowledge Distillation:**\n",
    "\n",
    "* **Concept:** Trains a smaller \"student\" model to mimic the behavior of a larger \"teacher\" model.\n",
    "* **Methods:**\n",
    "    * Soft labels: Using the teacher's output probabilities (soft labels) as targets for the student.\n",
    "    * Intermediate feature matching: Matching the feature representations of the teacher and student models.\n",
    "* **Concept:** The smaller student model learns from a larger teacher model.\n",
    "* **Code (Conceptual):**"
   ]
  },
  {
   "cell_type": "code",
   "execution_count": null,
   "metadata": {
    "id": "4H33_hAgkqtg"
   },
   "outputs": [],
   "source": [
    "def train_student(student_model, teacher_model, train_loader, optimizer, alpha=0.5, temperature=2.0):\n",
    "    \"\"\"Trains a student model using knowledge distillation.\"\"\"\n",
    "    for data, _ in train_loader:\n",
    "        optimizer.zero_grad()\n",
    "        student_output = student_model(data)\n",
    "        teacher_output = teacher_model(data)\n",
    "\n",
    "        soft_targets = torch.softmax(teacher_output / temperature, dim=1)\n",
    "        soft_prob = torch.log_softmax(student_output / temperature, dim=1)\n",
    "        distillation_loss = torch.nn.functional.kl_div(soft_prob, soft_targets.detach(), reduction='batchmean') * (temperature**2)\n",
    "\n",
    "        hard_loss = torch.nn.functional.cross_entropy(student_output, torch.argmax(teacher_output, dim=1)) #optional hard loss.\n",
    "\n",
    "        loss = alpha * distillation_loss + (1-alpha) * hard_loss\n",
    "        loss.backward()\n",
    "        optimizer.step()\n",
    "\n",
    "#Example Usage.\n",
    "#teacher_model = ... #Larger model\n",
    "#student_model = ... #Smaller model.\n",
    "#train_loader = ... #Dataloader.\n",
    "#optimizer = torch.optim.Adam(student_model.parameters(), lr=0.001)\n",
    "#train_student(student_model, teacher_model, train_loader)"
   ]
  },
  {
   "cell_type": "markdown",
   "metadata": {
    "id": "ELDCFlK-kqtg"
   },
   "source": [
    "**4. Low-Rank Factorization:**\n",
    "\n",
    "* **Concept:** Decomposes weight matrices into lower-rank matrices, reducing the number of parameters.\n",
    "* **Methods:**\n",
    "    * Singular Value Decomposition (SVD).\n",
    "    * Tensor decomposition.\n",
    "* This method is more complex to implement than the others, and often requires changes to the model architecture. Libraries like Tensorly can help with tensor decomposition.\n",
    "\n",
    "**Important Notes:**\n",
    "\n",
    "* Compression techniques often involve trade-offs between model size, performance, and accuracy.\n",
    "* The best compression method depends on the specific LLM architecture, task, and hardware constraints.\n",
    "* Libraries like PyTorch, TensorFlow, and Hugging Face Transformers provide tools and APIs for model compression.\n",
    "* When using quantization, make sure your hardware supports the datatype you are quantizing to, for instance, int8.\n",
    "* When using pruning, it is important to fine-tune the pruned model to recover lost accuracy."
   ]
  },
  {
   "cell_type": "markdown",
   "metadata": {
    "id": "XvXoIyGTkqtg"
   },
   "source": [
    "<div class=\"md-recitation\">\n",
    "  Sources\n",
    "  <ol>\n",
    "  <li><a href=\"https://github.com/HeadMelting/AI-Basis\">https://github.com/HeadMelting/AI-Basis</a></li>\n",
    "  <li><a href=\"https://tech.jxpress.net/entry/2021/08/26/170000\">https://tech.jxpress.net/entry/2021/08/26/170000</a></li>\n",
    "  </ol>\n",
    "</div>"
   ]
  }
 ],
 "metadata": {
  "colab": {
   "provenance": []
  },
  "kernelspec": {
   "display_name": "Python 3 (ipykernel)",
   "language": "python",
   "name": "python3"
  },
  "language_info": {
   "codemirror_mode": {
    "name": "ipython",
    "version": 3
   },
   "file_extension": ".py",
   "mimetype": "text/x-python",
   "name": "python",
   "nbconvert_exporter": "python",
   "pygments_lexer": "ipython3",
   "version": "3.10.12"
  }
 },
 "nbformat": 4,
 "nbformat_minor": 4
}
